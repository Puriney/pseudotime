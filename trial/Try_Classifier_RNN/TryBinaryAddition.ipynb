{
 "cells": [
  {
   "cell_type": "code",
   "execution_count": 87,
   "metadata": {
    "collapsed": false
   },
   "outputs": [],
   "source": [
    "from __future__ import print_function\n",
    "import numpy as np\n",
    "np.random.seed(2016)  # for reproducibility\n",
    "\n",
    "from keras.preprocessing import sequence\n",
    "from keras.utils import np_utils\n",
    "from keras.models import Sequential\n",
    "from keras.layers.core import Dense, Dropout, Activation, TimeDistributedDense\n",
    "from keras.layers.embeddings import Embedding\n",
    "from keras.layers.recurrent import LSTM"
   ]
  },
  {
   "cell_type": "code",
   "execution_count": 88,
   "metadata": {
    "collapsed": false
   },
   "outputs": [
    {
     "name": "stdout",
     "output_type": "stream",
     "text": [
      "Preparing int~binary dict...\n",
      "Example: Init::Binary = 2::[0 0 1 0]\n"
     ]
    }
   ],
   "source": [
    "print(\"Preparing int~binary dict...\")\n",
    "binary_dim = 4\n",
    "ele_size = 2\n",
    "largest_number = pow(2, binary_dim)\n",
    "\n",
    "int2binary = {}    \n",
    "for x in range(largest_num):    \n",
    "    x_bStr = np.binary_repr(x, width = binary_dim)\n",
    "    int2binary[x] = np.array(map(int, [c for c in x_bStr]))\n",
    "\n",
    "print('Example: Init::Binary = 2::' + str(int2binary[2]))"
   ]
  },
  {
   "cell_type": "code",
   "execution_count": 107,
   "metadata": {
    "collapsed": false
   },
   "outputs": [
    {
     "name": "stdout",
     "output_type": "stream",
     "text": [
      "Preparing dataset...\n",
      "Preview first 2 samples of dataset X, X_int, Y, Y_int...\n",
      "[[[0 0]\n",
      "  [1 0]\n",
      "  [1 1]\n",
      "  [0 1]]\n",
      "\n",
      " [[0 0]\n",
      "  [0 0]\n",
      "  [0 0]\n",
      "  [1 1]]]\n",
      "[[ 6.  3.]\n",
      " [ 1.  1.]]\n",
      "[[[1]\n",
      "  [0]\n",
      "  [0]\n",
      "  [1]]\n",
      "\n",
      " [[0]\n",
      "  [0]\n",
      "  [1]\n",
      "  [0]]]\n",
      "[ 9.  2.]\n"
     ]
    }
   ],
   "source": [
    "print(\"Preparing dataset...\")\n",
    "sample_size = 10000\n",
    "X = np.zeros((sample_size, binary_dim, ele_size), dtype = int)\n",
    "Y = np.zeros((sample_size, binary_dim, 1), dtype = int)\n",
    "X_int = np.zeros((sample_size, ele_size))\n",
    "\n",
    "for i in range(sample_size):\n",
    "    for e in range(ele_size):\n",
    "        ele_int = np.random.randint(largest_number / ele_size)\n",
    "        ele = int2binary[ele_int]\n",
    "        X[i, :, e] = ele\n",
    "        X_int[i, e] = ele_int\n",
    "\n",
    "Y_int = np.sum(X_int, axis = 1)\n",
    "for i in range(len(Y_int)):\n",
    "    Y[i, :, 0] = int2binary[Y_int[i]]\n",
    "\n",
    "i = 2\n",
    "print(\"Preview first %d samples of dataset X, X_int, Y, Y_int...\" % i)\n",
    "print(X[:i, :, :])\n",
    "print(X_int[:i, :])\n",
    "print(Y[:i, :])\n",
    "print(Y_int[:i])\n",
    "        "
   ]
  },
  {
   "cell_type": "code",
   "execution_count": 90,
   "metadata": {
    "collapsed": false
   },
   "outputs": [
    {
     "name": "stdout",
     "output_type": "stream",
     "text": [
      "Model shapes\n"
     ]
    }
   ],
   "source": [
    "print(\"Model shapes\")\n",
    "alpha = 0.1\n",
    "input_dim = ele_size\n",
    "hidden_dim = 16\n",
    "output_dim = 1"
   ]
  },
  {
   "cell_type": "code",
   "execution_count": 84,
   "metadata": {
    "collapsed": false
   },
   "outputs": [
    {
     "name": "stdout",
     "output_type": "stream",
     "text": [
      "Building model refering to https://github.com/fchollet/keras/issues/168\n"
     ]
    }
   ],
   "source": [
    "print(\"Building model refering to https://github.com/fchollet/keras/issues/168\")\n",
    "model = Sequential()\n",
    "model.add(LSTM(hidden_dim, return_sequences=True, input_shape=(binary_dim, ele_size) ))\n",
    "model.add(TimeDistributedDense(output_dim))\n",
    "model.add(Activation('softmax')) #https://github.com/fchollet/keras/commit/8f2d6d2714aa1b60950a2fc355d39297b7f2cdfb"
   ]
  },
  {
   "cell_type": "code",
   "execution_count": 85,
   "metadata": {
    "collapsed": false
   },
   "outputs": [
    {
     "name": "stderr",
     "output_type": "stream",
     "text": [
      "INFO (theano.gof.compilelock): Refreshing lock /Users/yunyan/.theano/compiledir_Darwin-15.3.0-x86_64-i386-64bit-i386-2.7.11-64/lock_dir/lock\n",
      "INFO:theano.gof.compilelock:Refreshing lock /Users/yunyan/.theano/compiledir_Darwin-15.3.0-x86_64-i386-64bit-i386-2.7.11-64/lock_dir/lock\n"
     ]
    },
    {
     "name": "stdout",
     "output_type": "stream",
     "text": [
      "Compile model...\n"
     ]
    }
   ],
   "source": [
    "print('Compile model...')\n",
    "model.compile(loss='categorical_crossentropy', optimizer='rmsprop')"
   ]
  },
  {
   "cell_type": "code",
   "execution_count": 113,
   "metadata": {
    "collapsed": false
   },
   "outputs": [
    {
     "name": "stdout",
     "output_type": "stream",
     "text": [
      "Training model...\n"
     ]
    },
    {
     "data": {
      "text/plain": [
       "<keras.callbacks.History at 0x11ec73850>"
      ]
     },
     "execution_count": 113,
     "metadata": {},
     "output_type": "execute_result"
    }
   ],
   "source": [
    "print('Training model...')\n",
    "batch_size = 100\n",
    "nb_epoch = 10\n",
    "# for i in range(8):\n",
    "model.fit(X, Y, batch_size=batch_size, nb_epoch=20, verbose = 0)\n"
   ]
  },
  {
   "cell_type": "code",
   "execution_count": 114,
   "metadata": {
    "collapsed": false
   },
   "outputs": [
    {
     "name": "stdout",
     "output_type": "stream",
     "text": [
      "Finished training and save model weights\n",
      "[WARNING] my_model_weights.h5 already exists - overwrite? [y/n]y\n",
      "[TIP] Next time specify overwrite=True in save_weights!\n"
     ]
    }
   ],
   "source": [
    "print('Finished training and save model weights')\n",
    "model.save_weights('my_model_weights.h5')"
   ]
  },
  {
   "cell_type": "code",
   "execution_count": 115,
   "metadata": {
    "collapsed": false
   },
   "outputs": [
    {
     "name": "stdout",
     "output_type": "stream",
     "text": [
      "Try perform add two number\n",
      "[[[0 0]\n",
      "  [0 1]\n",
      "  [1 0]\n",
      "  [1 0]]\n",
      "\n",
      " [[0 0]\n",
      "  [0 1]\n",
      "  [1 1]\n",
      "  [0 1]]]\n",
      "[[ 3.  4.]\n",
      " [ 2.  7.]]\n",
      "[[[0]\n",
      "  [1]\n",
      "  [1]\n",
      "  [1]]\n",
      "\n",
      " [[1]\n",
      "  [0]\n",
      "  [0]\n",
      "  [1]]]\n",
      "[ 7.  9.]\n"
     ]
    }
   ],
   "source": [
    "print('Try perform add two number')\n",
    "sample_size = 2\n",
    "X_test = np.zeros((sample_size, binary_dim, ele_size), dtype = int)\n",
    "Y_test = np.zeros((sample_size, binary_dim, 1), dtype = int)\n",
    "X_int_test = np.zeros((sample_size, ele_size))\n",
    "\n",
    "for i in range(sample_size):\n",
    "    for e in range(ele_size):\n",
    "        ele_int = np.random.randint(largest_number / ele_size)\n",
    "        ele = int2binary[ele_int]\n",
    "        X_test[i, :, e] = ele\n",
    "        X_int_test[i, e] = ele_int\n",
    "\n",
    "Y_int_test = np.sum(X_int_test, axis = 1)\n",
    "for i in range(len(Y_int_test)):\n",
    "    Y_test[i, :, 0] = int2binary[Y_int_test[i]]\n",
    "\n",
    "i = sample_size\n",
    "print(X_test[:i, :, :])\n",
    "print(X_int_test[:i, :])\n",
    "print(Y_test[:i, :])\n",
    "print(Y_int_test[:i])"
   ]
  },
  {
   "cell_type": "code",
   "execution_count": 118,
   "metadata": {
    "collapsed": false
   },
   "outputs": [
    {
     "name": "stdout",
     "output_type": "stream",
     "text": [
      "2/2 [==============================] - 0s\n",
      "2/2 [==============================] - 0s\n"
     ]
    }
   ],
   "source": [
    "classes = model.predict_classes(X_test)\n",
    "proba = model.predict_proba(X_test)\n",
    "preds = model.predict(X_test)"
   ]
  },
  {
   "cell_type": "code",
   "execution_count": 119,
   "metadata": {
    "collapsed": false
   },
   "outputs": [
    {
     "name": "stdout",
     "output_type": "stream",
     "text": [
      "[[0 0 0 0]\n",
      " [0 0 0 0]]\n",
      "[[[ 1.]\n",
      "  [ 1.]\n",
      "  [ 1.]\n",
      "  [ 1.]]\n",
      "\n",
      " [[ 1.]\n",
      "  [ 1.]\n",
      "  [ 1.]\n",
      "  [ 1.]]]\n",
      "[[[ 1.]\n",
      "  [ 1.]\n",
      "  [ 1.]\n",
      "  [ 1.]]\n",
      "\n",
      " [[ 1.]\n",
      "  [ 1.]\n",
      "  [ 1.]\n",
      "  [ 1.]]]\n"
     ]
    }
   ],
   "source": [
    "print(classes)\n",
    "print(proba)\n",
    "print(preds)"
   ]
  },
  {
   "cell_type": "code",
   "execution_count": null,
   "metadata": {
    "collapsed": true
   },
   "outputs": [],
   "source": []
  }
 ],
 "metadata": {
  "kernelspec": {
   "display_name": "Python 2",
   "language": "python",
   "name": "python2"
  },
  "language_info": {
   "codemirror_mode": {
    "name": "ipython",
    "version": 2
   },
   "file_extension": ".py",
   "mimetype": "text/x-python",
   "name": "python",
   "nbconvert_exporter": "python",
   "pygments_lexer": "ipython2",
   "version": "2.7.11"
  }
 },
 "nbformat": 4,
 "nbformat_minor": 0
}
